{
  "nbformat": 4,
  "nbformat_minor": 0,
  "metadata": {
    "colab": {
      "name": "pymorphy features_dnn.ipynb",
      "provenance": [],
      "collapsed_sections": [],
      "include_colab_link": true
    },
    "kernelspec": {
      "name": "python3",
      "display_name": "Python 3"
    },
    "language_info": {
      "name": "python"
    }
  },
  "cells": [
    {
      "cell_type": "markdown",
      "metadata": {
        "id": "view-in-github",
        "colab_type": "text"
      },
      "source": [
        "<a href=\"https://colab.research.google.com/github/sunmario/my_code/blob/master/pymorphy_features_dnn.ipynb\" target=\"_parent\"><img src=\"https://colab.research.google.com/assets/colab-badge.svg\" alt=\"Open In Colab\"/></a>"
      ]
    },
    {
      "cell_type": "code",
      "metadata": {
        "id": "bu7DzG1edYi8"
      },
      "source": [
        "import numpy as np\n",
        "import string\n",
        "from tqdm import tqdm\n",
        "from sklearn.model_selection import train_test_split\n",
        "import torch"
      ],
      "execution_count": null,
      "outputs": []
    },
    {
      "cell_type": "markdown",
      "metadata": {
        "id": "GPRyZp9IX9iV"
      },
      "source": [
        "# План\n",
        "1. Описываем задачу и датасет. Как выделили тест и валид, частотности знаков  препинания,\n",
        "2. Извлечение признаков - морфологические признаки(pymorphy2)\n",
        "3. Классические методы МО\n",
        "4. Глубокая нейронная сеть\n",
        "5. Сравнение результатов\n"
      ]
    },
    {
      "cell_type": "markdown",
      "metadata": {
        "id": "3T7lMLTz69Zq"
      },
      "source": [
        "| Архитектура                                       \t| F мера по пробелам \t| F мера по запятым \t| F мера по точкам \t|\n",
        "|---------------------------------------------------\t|--------------------\t|-------------------\t|------------------\t|\n",
        "| Дерево решений(глубина 12,энтропия)               \t| 0.66               \t| 0.24              \t| 0.51             \t|\n",
        "| Мажоритарное голосование(линSVC,логрегресс,байес) \t| 0.67               \t| 0.25              \t| 0.49             \t|\n",
        "| DNN(3 линейных слоя,relu,adam)                    \t| 0.67               \t| 0.26              \t| 0.51             \t|\n"
      ]
    },
    {
      "cell_type": "markdown",
      "metadata": {
        "id": "dxYuJFOR_uod"
      },
      "source": [
        "# 1.1 Подготовка данных"
      ]
    },
    {
      "cell_type": "markdown",
      "metadata": {
        "id": "Y4r1QGDy9_CC"
      },
      "source": [
        "\n",
        "## Данные: Шаг 1 - загрузка датасета "
      ]
    },
    {
      "cell_type": "code",
      "metadata": {
        "colab": {
          "base_uri": "https://localhost:8080/"
        },
        "id": "qBItr4_KdauK",
        "outputId": "9c69fade-83a1-479d-be25-8588b3330972"
      },
      "source": [
        "# Download ru.conversations.txt\n",
        "!wget -P data/Conversations https://github.com/Koziev/NLP_Datasets/raw/master/Conversations/Data/ru.conversations.txt\n"
      ],
      "execution_count": null,
      "outputs": [
        {
          "output_type": "stream",
          "text": [
            "--2021-06-17 19:57:23--  https://github.com/Koziev/NLP_Datasets/raw/master/Conversations/Data/ru.conversations.txt\n",
            "Resolving github.com (github.com)... 140.82.112.3\n",
            "Connecting to github.com (github.com)|140.82.112.3|:443... connected.\n",
            "HTTP request sent, awaiting response... 302 Found\n",
            "Location: https://raw.githubusercontent.com/Koziev/NLP_Datasets/master/Conversations/Data/ru.conversations.txt [following]\n",
            "--2021-06-17 19:57:23--  https://raw.githubusercontent.com/Koziev/NLP_Datasets/master/Conversations/Data/ru.conversations.txt\n",
            "Resolving raw.githubusercontent.com (raw.githubusercontent.com)... 185.199.111.133, 185.199.110.133, 185.199.109.133, ...\n",
            "Connecting to raw.githubusercontent.com (raw.githubusercontent.com)|185.199.111.133|:443... connected.\n",
            "HTTP request sent, awaiting response... 200 OK\n",
            "Length: 9718314 (9.3M) [text/plain]\n",
            "Saving to: ‘data/Conversations/ru.conversations.txt’\n",
            "\n",
            "ru.conversations.tx 100%[===================>]   9.27M  21.4MB/s    in 0.4s    \n",
            "\n",
            "2021-06-17 19:57:24 (21.4 MB/s) - ‘data/Conversations/ru.conversations.txt’ saved [9718314/9718314]\n",
            "\n"
          ],
          "name": "stdout"
        }
      ]
    },
    {
      "cell_type": "code",
      "metadata": {
        "colab": {
          "base_uri": "https://localhost:8080/"
        },
        "id": "x3A_Ajkfc_sz",
        "outputId": "ef6e8ce4-16c8-4bee-a4e6-6e6f11189a44"
      },
      "source": [
        "# Download dialogues.txt\n",
        "!wget -P data/Conversations https://github.com/Koziev/NLP_Datasets/raw/master/Conversations/Data/dialogues.zip\n",
        "!unzip -d data/Conversations data/Conversations/dialogues.zip"
      ],
      "execution_count": null,
      "outputs": [
        {
          "output_type": "stream",
          "text": [
            "--2021-06-17 19:57:24--  https://github.com/Koziev/NLP_Datasets/raw/master/Conversations/Data/dialogues.zip\n",
            "Resolving github.com (github.com)... 140.82.112.3\n",
            "Connecting to github.com (github.com)|140.82.112.3|:443... connected.\n",
            "HTTP request sent, awaiting response... 302 Found\n",
            "Location: https://raw.githubusercontent.com/Koziev/NLP_Datasets/master/Conversations/Data/dialogues.zip [following]\n",
            "--2021-06-17 19:57:24--  https://raw.githubusercontent.com/Koziev/NLP_Datasets/master/Conversations/Data/dialogues.zip\n",
            "Resolving raw.githubusercontent.com (raw.githubusercontent.com)... 185.199.110.133, 185.199.108.133, 185.199.111.133, ...\n",
            "Connecting to raw.githubusercontent.com (raw.githubusercontent.com)|185.199.110.133|:443... connected.\n",
            "HTTP request sent, awaiting response... 200 OK\n",
            "Length: 30699585 (29M) [application/zip]\n",
            "Saving to: ‘data/Conversations/dialogues.zip’\n",
            "\n",
            "dialogues.zip       100%[===================>]  29.28M  37.2MB/s    in 0.8s    \n",
            "\n",
            "2021-06-17 19:57:26 (37.2 MB/s) - ‘data/Conversations/dialogues.zip’ saved [30699585/30699585]\n",
            "\n",
            "Archive:  data/Conversations/dialogues.zip\n",
            "  inflating: data/Conversations/dialogues.txt  \n"
          ],
          "name": "stdout"
        }
      ]
    },
    {
      "cell_type": "markdown",
      "metadata": {
        "id": "1tkuvtBg97ll"
      },
      "source": [
        "## Данные: Шаг 2 - Разбиваем на train, val, test\n",
        "* TRAIN_lines - коллекция всех строк для обучения\n",
        "* VAL_lines - небольшая подвыборка из строк ru.conversations.txt\n",
        "* TEST_lines - большой подвыборка из dialogues.txt"
      ]
    },
    {
      "cell_type": "code",
      "metadata": {
        "colab": {
          "base_uri": "https://localhost:8080/"
        },
        "id": "DfzS7tdm9gKg",
        "outputId": "fef5ce69-f76f-4e6d-c153-59988d802a39"
      },
      "source": [
        "def load_file(fname):\n",
        "    with open(fname, \"r\", encoding=\"utf-8\") as f:\n",
        "        lines = [line for line in map(lambda s: s.strip(\"-\").strip(), f.readlines()) if line]\n",
        "    return lines\n",
        "\n",
        "ru_conv_lines = load_file(\"data/Conversations/ru.conversations.txt\")\n",
        "dialogues_lines = load_file(\"data/Conversations/dialogues.txt\")\n",
        "print(f\"ru.conversations.txt: num lines {len(ru_conv_lines)}\")\n",
        "#print(f\"dialogues.txt: num lines {len(dialogues_lines)}\")\n",
        "\n",
        "ru_conv_lines_train, ru_conv_lines_val = train_test_split(ru_conv_lines, test_size=0.3, shuffle=False)\n",
        "dialogues_lines_train, dialogues_lines_val = train_test_split(dialogues_lines, test_size=0.1, shuffle=False)\n",
        "\n",
        "TRAIN_lines_ru_conv = ru_conv_lines_train\n",
        "TRAIN_lines = np.concatenate((ru_conv_lines_train, dialogues_lines_train))\n",
        "VAL_lines = ru_conv_lines_val\n",
        "TEST_lines = dialogues_lines_val\n",
        "#print(f\"TRAIN_lines: {len(TRAIN_lines)}. Average line len ( in words): {np.average([len(s.split()) for s in TRAIN_lines])}\")\n",
        "print(f\"VAL_lines: {len(VAL_lines)}. Average line len ( in words): {np.average([len(s.split()) for s in VAL_lines])}\")\n",
        "#print(f\"TEST_lines: {len(TEST_lines)}. Average line len ( in words): {np.average([len(s.split()) for s in TEST_lines])}\")"
      ],
      "execution_count": null,
      "outputs": [
        {
          "output_type": "stream",
          "text": [
            "ru.conversations.txt: num lines 246295\n",
            "VAL_lines: 73889. Average line len ( in words): 3.441067005914277\n"
          ],
          "name": "stdout"
        }
      ]
    },
    {
      "cell_type": "markdown",
      "metadata": {
        "id": "iQA6e9Ck_iSh"
      },
      "source": [
        "## Данные: Шаг 3 - отделяем знаки препинания от слов\n",
        "\n",
        "Данные и метки классов хранятся в этих коллекциях \n",
        "* TRAIN_WORDS, TRAIN_LABELS - массив массивов с словами и массив с массивом пунктуации для TRAIN\n",
        "* VAL_WORDS, VAL_LABELS - same for VAL\n",
        "* TEST_WORDS, TEST_LABELS - same for TEST"
      ]
    },
    {
      "cell_type": "code",
      "metadata": {
        "colab": {
          "base_uri": "https://localhost:8080/"
        },
        "id": "2_QBK9Tj_f9x",
        "outputId": "9e9f97e6-6756-42cf-9106-948b81d1cffa"
      },
      "source": [
        "PUNCTUATIONS = {\"\": 0, \".\": 1, \",\": 2}\n",
        "punct_mapping = {\"!\": \".\", \"?\": \".\", \"...\": \".\", \":\": \"\", \"*\":'',\n",
        "                 \"'\": \"\", '\"':\"\", \"(\": \"\", \")\": \"\", \"{\": \"\", \"}\": \"\", \n",
        "                 \"[\": '', \"]\": \"\",\n",
        "                 \".\": \".\", \",\":\",\",}\n",
        "\n",
        "def tokenize(text):   \n",
        "  \"\"\"Tokenize text. Split words and punctuations\"\"\"\n",
        "  legal_in_word_sym = \"-\"\n",
        "  for p, map_p in punct_mapping.items():\n",
        "    text = text.replace(p, f\" {map_p} \")\n",
        "  return text.lower().split()\n",
        "\n",
        "def separate_words_and_puncts(tokenized_text):\n",
        "  \"\"\"Generate raw text and punctuation labels arrays from tokenized text.\"\"\"\n",
        "  words = []\n",
        "  labels = []\n",
        "  appended_label = True\n",
        "  for word in tokenized_text:\n",
        "    if word in PUNCTUATIONS:\n",
        "      if not appended_label:\n",
        "        labels.append(word)\n",
        "        appended_label = True\n",
        "    else:\n",
        "      if word in string.punctuation:\n",
        "        continue\n",
        "      words.append(word)\n",
        "      if not appended_label:\n",
        "        labels.append(\"\")\n",
        "      appended_label = False\n",
        "  if not appended_label:\n",
        "    labels.append('')\n",
        "  assert len(words) == len(labels), f\"{words} \\n {labels}\"\n",
        "  return words, labels\n",
        "\n",
        "def extract_punctuations(lines):\n",
        "  \"\"\"Generate X,Y from input text lines \"\"\"\n",
        "  x, y = [] , []\n",
        "  for line in tqdm(lines):\n",
        "    line_splited = tokenize(line.strip())\n",
        "    words, labels = separate_words_and_puncts(line_splited)\n",
        "    if words:\n",
        "      x.append(words)\n",
        "      y.append(labels)\n",
        "  return x, y \n",
        "\n",
        "TRAIN_WORDS_ru_conv, TRAIN_LABELS_ru_conv = extract_punctuations(TRAIN_lines_ru_conv)\n",
        "TRAIN_WORDS, TRAIN_LABELS = extract_punctuations(TRAIN_lines)\n",
        "VAL_WORDS, VAL_LABELS = extract_punctuations(VAL_lines)\n",
        "TEST_WORDS, TEST_LABELS = extract_punctuations(TEST_lines)"
      ],
      "execution_count": null,
      "outputs": [
        {
          "output_type": "stream",
          "text": [
            "100%|██████████| 172406/172406 [00:03<00:00, 53017.41it/s]\n",
            "100%|██████████| 2793381/2793381 [00:45<00:00, 61071.70it/s]\n",
            "100%|██████████| 73889/73889 [00:00<00:00, 101315.62it/s]\n",
            "100%|██████████| 291220/291220 [00:05<00:00, 53000.63it/s]\n"
          ],
          "name": "stderr"
        }
      ]
    },
    {
      "cell_type": "code",
      "metadata": {
        "colab": {
          "base_uri": "https://localhost:8080/"
        },
        "id": "Uq4FCeVtZDW3",
        "outputId": "e9fd89a2-9a74-40e2-d01a-bfe7fbcf7161"
      },
      "source": [
        "# пример\n",
        "print(\"Пример того, как выглядит первый элемент в VAL\")\n",
        "print(\"Формат  - '<WORD>': '<LABEL>'\")\n",
        "print(f\"Оригинал: '{VAL_lines[0]}'\")\n",
        "print(\"---\")\n",
        "for word, label in zip(VAL_WORDS[0], VAL_LABELS[0]):\n",
        "  print(f\"'{word}': '{label}'\")"
      ],
      "execution_count": null,
      "outputs": [
        {
          "output_type": "stream",
          "text": [
            "Пример того, как выглядит первый элемент в VAL\n",
            "Формат  - '<WORD>': '<LABEL>'\n",
            "Оригинал: 'Гвоздья бы мяе... Есть гвоздье?'\n",
            "---\n",
            "'гвоздья': ''\n",
            "'бы': ''\n",
            "'мяе': '.'\n",
            "'есть': ''\n",
            "'гвоздье': '.'\n"
          ],
          "name": "stdout"
        }
      ]
    },
    {
      "cell_type": "code",
      "metadata": {
        "colab": {
          "base_uri": "https://localhost:8080/"
        },
        "id": "HGkOsmxS14h2",
        "outputId": "ba54eb30-ee64-494a-9cf8-a1e508584661"
      },
      "source": [
        "# Статистика по классам\n",
        "\n",
        "def get_statistic(label_lines):\n",
        "  labels = np.concatenate(label_lines)\n",
        "  empty = (labels == '').sum()\n",
        "  comma = (labels == ',').sum()\n",
        "  dot = (labels == '.').sum()\n",
        "  print(f\"empty:{empty} comma:{comma} dot:{dot}\")\n",
        "\n",
        "print(\"TRAIN\")\n",
        "get_statistic(TRAIN_LABELS)\n",
        "print(\"VAL\")\n",
        "get_statistic(VAL_LABELS)\n",
        "print(\"TEST\")\n",
        "get_statistic(TEST_LABELS)"
      ],
      "execution_count": null,
      "outputs": [
        {
          "output_type": "stream",
          "text": [
            "TRAIN\n",
            "empty:7266648 comma:1514869 dot:2981645\n",
            "VAL\n",
            "empty:144404 comma:20992 dot:87126\n",
            "TEST\n",
            "empty:766118 comma:163749 dot:307740\n"
          ],
          "name": "stdout"
        }
      ]
    },
    {
      "cell_type": "markdown",
      "metadata": {
        "id": "zSjvVJC8WxBF"
      },
      "source": [
        "# 2 Выделение признаков с помощью pymorphy2\n",
        "Для обучающей выборки была создана сбалансированная выборка(12000 объектов, 4000 каждого класса)\n",
        "Для извлечения признаков были собраны все граммемы и преобразованы в бинарный вектор длины 52\n"
      ]
    },
    {
      "cell_type": "code",
      "metadata": {
        "id": "G4hPjgW2Zuf8",
        "colab": {
          "base_uri": "https://localhost:8080/"
        },
        "outputId": "8689dc58-f6e6-473c-f8bc-a5b426a35dc0"
      },
      "source": [
        "from itertools import chain\n",
        "train_labels = np.concatenate(TRAIN_LABELS_ru_conv)\n",
        "train_words = np.concatenate(TRAIN_WORDS_ru_conv)\n",
        "\n",
        "balanced_ids_train = np.concatenate((np.where(train_labels == '')[0][:4000],\n",
        "                              np.where(train_labels == ',')[0][:4000],\n",
        "                              np.where(train_labels == '.')[0][:4000]))\n",
        "\n",
        "\n",
        "balanced_words_train,balanced_labels_train = train_words[balanced_ids_train],train_labels[balanced_ids_train]\n",
        "\n",
        "test_labels = np.concatenate(TEST_LABELS)[:3600]\n",
        "test_words = np.concatenate(TEST_WORDS)[:3600]\n",
        "\n",
        "!pip install pymorphy2\n",
        "import pymorphy2\n",
        "\n",
        "\n",
        "def binary_morph_feat(wordlines):\n",
        "  morph = pymorphy2.MorphAnalyzer()\n",
        "  TRAIN_WORDS_FEAT = []\n",
        "  for i in tqdm(range(len(wordlines)),disable=True):\n",
        "      p = morph.parse(wordlines[i])[0].tag\n",
        "      TRAIN_WORDS_FEAT.append(p)\n",
        "  all_gramems = [\"POS\", \"animacy\", \"gender\", \"number\", \"case\", \"aspect\",\n",
        "    \"transitivity\", \"person\", \"tense\", \"mood\", \"voice\",\"involvement\"]\n",
        "  gramem_cat = [\n",
        "              [\"NOUN\",\"ADJF\",\"ADJS\",\n",
        "               \"COMP\",\"VERB\",\"INFN\",\n",
        "               \"PRTF\",\"PRTS\",\"GRND\",\n",
        "               \"NUMR\",\"ADVB\",\"NPRO\",\n",
        "               \"PRED\",\"PREP\",\"CONJ\",\n",
        "               \"PRCL\",\"INTJ\"],\n",
        "                [\"anim\",\"inan\"],\n",
        "                [\"masc\",\"femn\",\"neut\"],\n",
        "                [\"sing\",\"plur\"],\n",
        "                [\"nomn\",\"gent\",\"datv\",\n",
        "                \"accs\",\"ablt\",\"loct\",\n",
        "                \"voct\", \"gen1\",\"gen2\",\n",
        "                \"acc2\",\"loc1\",\"loc2\"],\n",
        "                [\"perf\",\"impf\"],\n",
        "                [\"tran\",\"intr\"],\n",
        "                [\"1per\",\"2per\",\"3per\"],\n",
        "                [\"pres\",\"past\",\"futr\"],\n",
        "                [\"indc\",\"impr\"],\n",
        "                [\"actv\",\"pssv\"],\n",
        "                [\"incl\",\"excl\"]\n",
        "                ]\n",
        "  gram = list(chain(*gramem_cat))\n",
        "  binary_vector = []\n",
        "  for i in tqdm(range(len(TRAIN_WORDS_FEAT)),disable=True):\n",
        "    bi = []\n",
        "    for j in tqdm(range(len(all_gramems)),disable=True):\n",
        "      at = (getattr(TRAIN_WORDS_FEAT[i],all_gramems[j]))\n",
        "      if at is not None:\n",
        "        try:\n",
        "          if at in gramem_cat[j]:\n",
        "            bi_ = [0 for i in range(len(gramem_cat[j]))]\n",
        "            bi_[gramem_cat[j].index(at)] = 1\n",
        "        except ValueError:\n",
        "          bi_ = [0 for i in range(len(gramem_cat[j]))]\n",
        "      else:\n",
        "        bi_ = [0 for i in range(len(gramem_cat[j]))]\n",
        "      bi.append(bi_)\n",
        "    bi = list(chain(*bi))\n",
        "    binary_vector.append(bi)\n",
        "  binary_vector = np.array(binary_vector)\n",
        "  return binary_vector\n",
        "\n",
        "binary_train = binary_morph_feat(balanced_words_train)\n",
        "binary_test = binary_morph_feat(test_words)"
      ],
      "execution_count": null,
      "outputs": [
        {
          "output_type": "stream",
          "text": [
            "Collecting pymorphy2\n",
            "\u001b[?25l  Downloading https://files.pythonhosted.org/packages/07/57/b2ff2fae3376d4f3c697b9886b64a54b476e1a332c67eee9f88e7f1ae8c9/pymorphy2-0.9.1-py3-none-any.whl (55kB)\n",
            "\u001b[K     |████████████████████████████████| 61kB 2.3MB/s \n",
            "\u001b[?25hRequirement already satisfied: docopt>=0.6 in /usr/local/lib/python3.7/dist-packages (from pymorphy2) (0.6.2)\n",
            "Collecting pymorphy2-dicts-ru<3.0,>=2.4\n",
            "\u001b[?25l  Downloading https://files.pythonhosted.org/packages/3a/79/bea0021eeb7eeefde22ef9e96badf174068a2dd20264b9a378f2be1cdd9e/pymorphy2_dicts_ru-2.4.417127.4579844-py2.py3-none-any.whl (8.2MB)\n",
            "\u001b[K     |████████████████████████████████| 8.2MB 5.7MB/s \n",
            "\u001b[?25hCollecting dawg-python>=0.7.1\n",
            "  Downloading https://files.pythonhosted.org/packages/6a/84/ff1ce2071d4c650ec85745766c0047ccc3b5036f1d03559fd46bb38b5eeb/DAWG_Python-0.7.2-py2.py3-none-any.whl\n",
            "Installing collected packages: pymorphy2-dicts-ru, dawg-python, pymorphy2\n",
            "Successfully installed dawg-python-0.7.2 pymorphy2-0.9.1 pymorphy2-dicts-ru-2.4.417127.4579844\n"
          ],
          "name": "stdout"
        }
      ]
    },
    {
      "cell_type": "markdown",
      "metadata": {
        "id": "yjweLE4MM42y"
      },
      "source": [
        "# 3 Классические методы машинного обучения\n",
        "Для применения методов был использован GridSearch, с помощью которого были выявлены оптимальные параметры для каждого из методов\n"
      ]
    },
    {
      "cell_type": "markdown",
      "metadata": {
        "id": "1rxTI1lRNcif"
      },
      "source": [
        "# Дерево решений\n"
      ]
    },
    {
      "cell_type": "code",
      "metadata": {
        "id": "nGeQNvMHdbLB",
        "colab": {
          "base_uri": "https://localhost:8080/",
          "height": 447
        },
        "outputId": "de10e55c-be91-4280-dd6c-5a3ac92a6b7c"
      },
      "source": [
        "from sklearn import metrics\n",
        "from sklearn.tree import DecisionTreeClassifier as dectree\n",
        "from sklearn.model_selection import GridSearchCV\n",
        "import pandas as pd\n",
        "dt_ = dectree()\n",
        "params = {\"max_depth\":[i for i in range(2,52)],\"criterion\":[\"gini\", \"entropy\"]}\n",
        "clf = GridSearchCV(dt_,params)\n",
        "clf.fit(binary_train, balanced_labels_train)\n",
        "\n",
        "results_df = pd.DataFrame(clf.cv_results_)\n",
        "results_df = results_df.sort_values(by=['rank_test_score'])\n",
        "results_df = (results_df .set_index(results_df[\"params\"].apply(lambda x: \"_\".join(str(val) for val in x.values()))).rename_axis('max_depth'))\n",
        "results_df[['params', 'rank_test_score', 'mean_test_score', 'std_test_score']]\n"
      ],
      "execution_count": null,
      "outputs": [
        {
          "output_type": "execute_result",
          "data": {
            "text/html": [
              "<div>\n",
              "<style scoped>\n",
              "    .dataframe tbody tr th:only-of-type {\n",
              "        vertical-align: middle;\n",
              "    }\n",
              "\n",
              "    .dataframe tbody tr th {\n",
              "        vertical-align: top;\n",
              "    }\n",
              "\n",
              "    .dataframe thead th {\n",
              "        text-align: right;\n",
              "    }\n",
              "</style>\n",
              "<table border=\"1\" class=\"dataframe\">\n",
              "  <thead>\n",
              "    <tr style=\"text-align: right;\">\n",
              "      <th></th>\n",
              "      <th>params</th>\n",
              "      <th>rank_test_score</th>\n",
              "      <th>mean_test_score</th>\n",
              "      <th>std_test_score</th>\n",
              "    </tr>\n",
              "    <tr>\n",
              "      <th>max_depth</th>\n",
              "      <th></th>\n",
              "      <th></th>\n",
              "      <th></th>\n",
              "      <th></th>\n",
              "    </tr>\n",
              "  </thead>\n",
              "  <tbody>\n",
              "    <tr>\n",
              "      <th>entropy_12</th>\n",
              "      <td>{'criterion': 'entropy', 'max_depth': 12}</td>\n",
              "      <td>1</td>\n",
              "      <td>0.510500</td>\n",
              "      <td>0.022894</td>\n",
              "    </tr>\n",
              "    <tr>\n",
              "      <th>entropy_17</th>\n",
              "      <td>{'criterion': 'entropy', 'max_depth': 17}</td>\n",
              "      <td>2</td>\n",
              "      <td>0.510000</td>\n",
              "      <td>0.026401</td>\n",
              "    </tr>\n",
              "    <tr>\n",
              "      <th>entropy_15</th>\n",
              "      <td>{'criterion': 'entropy', 'max_depth': 15}</td>\n",
              "      <td>3</td>\n",
              "      <td>0.509833</td>\n",
              "      <td>0.025872</td>\n",
              "    </tr>\n",
              "    <tr>\n",
              "      <th>entropy_16</th>\n",
              "      <td>{'criterion': 'entropy', 'max_depth': 16}</td>\n",
              "      <td>4</td>\n",
              "      <td>0.509417</td>\n",
              "      <td>0.026035</td>\n",
              "    </tr>\n",
              "    <tr>\n",
              "      <th>entropy_13</th>\n",
              "      <td>{'criterion': 'entropy', 'max_depth': 13}</td>\n",
              "      <td>5</td>\n",
              "      <td>0.509083</td>\n",
              "      <td>0.024333</td>\n",
              "    </tr>\n",
              "    <tr>\n",
              "      <th>...</th>\n",
              "      <td>...</td>\n",
              "      <td>...</td>\n",
              "      <td>...</td>\n",
              "      <td>...</td>\n",
              "    </tr>\n",
              "    <tr>\n",
              "      <th>entropy_4</th>\n",
              "      <td>{'criterion': 'entropy', 'max_depth': 4}</td>\n",
              "      <td>96</td>\n",
              "      <td>0.467250</td>\n",
              "      <td>0.008837</td>\n",
              "    </tr>\n",
              "    <tr>\n",
              "      <th>gini_3</th>\n",
              "      <td>{'criterion': 'gini', 'max_depth': 3}</td>\n",
              "      <td>97</td>\n",
              "      <td>0.453833</td>\n",
              "      <td>0.008992</td>\n",
              "    </tr>\n",
              "    <tr>\n",
              "      <th>entropy_3</th>\n",
              "      <td>{'criterion': 'entropy', 'max_depth': 3}</td>\n",
              "      <td>98</td>\n",
              "      <td>0.448250</td>\n",
              "      <td>0.007276</td>\n",
              "    </tr>\n",
              "    <tr>\n",
              "      <th>gini_2</th>\n",
              "      <td>{'criterion': 'gini', 'max_depth': 2}</td>\n",
              "      <td>99</td>\n",
              "      <td>0.427250</td>\n",
              "      <td>0.003923</td>\n",
              "    </tr>\n",
              "    <tr>\n",
              "      <th>entropy_2</th>\n",
              "      <td>{'criterion': 'entropy', 'max_depth': 2}</td>\n",
              "      <td>100</td>\n",
              "      <td>0.422500</td>\n",
              "      <td>0.005658</td>\n",
              "    </tr>\n",
              "  </tbody>\n",
              "</table>\n",
              "<p>100 rows × 4 columns</p>\n",
              "</div>"
            ],
            "text/plain": [
              "                                               params  ...  std_test_score\n",
              "max_depth                                              ...                \n",
              "entropy_12  {'criterion': 'entropy', 'max_depth': 12}  ...        0.022894\n",
              "entropy_17  {'criterion': 'entropy', 'max_depth': 17}  ...        0.026401\n",
              "entropy_15  {'criterion': 'entropy', 'max_depth': 15}  ...        0.025872\n",
              "entropy_16  {'criterion': 'entropy', 'max_depth': 16}  ...        0.026035\n",
              "entropy_13  {'criterion': 'entropy', 'max_depth': 13}  ...        0.024333\n",
              "...                                               ...  ...             ...\n",
              "entropy_4    {'criterion': 'entropy', 'max_depth': 4}  ...        0.008837\n",
              "gini_3          {'criterion': 'gini', 'max_depth': 3}  ...        0.008992\n",
              "entropy_3    {'criterion': 'entropy', 'max_depth': 3}  ...        0.007276\n",
              "gini_2          {'criterion': 'gini', 'max_depth': 2}  ...        0.003923\n",
              "entropy_2    {'criterion': 'entropy', 'max_depth': 2}  ...        0.005658\n",
              "\n",
              "[100 rows x 4 columns]"
            ]
          },
          "metadata": {
            "tags": []
          },
          "execution_count": 9
        }
      ]
    },
    {
      "cell_type": "code",
      "metadata": {
        "id": "ccj4rYqAgOJ3",
        "colab": {
          "base_uri": "https://localhost:8080/"
        },
        "outputId": "b825d65a-ae0f-4ea4-e6b1-02b34fcaed9c"
      },
      "source": [
        "dt_opt = dectree(max_depth=12,criterion = \"entropy\")\n",
        "dt_opt.fit(binary_train, balanced_labels_train)\n",
        "expected = test_labels\n",
        "predicted = dt_opt.predict(binary_test)\n",
        "print(metrics.classification_report(expected, predicted))\n",
        "print(metrics.confusion_matrix(expected, predicted))\n"
      ],
      "execution_count": null,
      "outputs": [
        {
          "output_type": "stream",
          "text": [
            "              precision    recall  f1-score   support\n",
            "\n",
            "                   0.79      0.57      0.66      2209\n",
            "           ,       0.21      0.29      0.24       523\n",
            "           .       0.43      0.62      0.51       868\n",
            "\n",
            "    accuracy                           0.55      3600\n",
            "   macro avg       0.48      0.50      0.47      3600\n",
            "weighted avg       0.62      0.55      0.57      3600\n",
            "\n",
            "[[1270  453  486]\n",
            " [ 146  154  223]\n",
            " [ 197  129  542]]\n"
          ],
          "name": "stdout"
        }
      ]
    },
    {
      "cell_type": "code",
      "metadata": {
        "id": "JzaDzjluhMjC",
        "colab": {
          "base_uri": "https://localhost:8080/",
          "height": 447
        },
        "outputId": "4fd8abc4-20c6-414f-9563-254d5df53ac9"
      },
      "source": [
        "from sklearn.ensemble import VotingClassifier\n",
        "from sklearn.naive_bayes import GaussianNB\n",
        "from sklearn.svm import LinearSVC\n",
        "from sklearn.linear_model import LogisticRegression\n",
        "gaus_ = GaussianNB()\n",
        "params = {'var_smoothing': np.logspace(0,-9, num=100)}\n",
        "clf_nb = GridSearchCV(gaus_,params)\n",
        "clf_nb.fit(binary_train, balanced_labels_train)\n",
        "\n",
        "results_df = pd.DataFrame(clf_nb.cv_results_)\n",
        "results_df = results_df.sort_values(by=['rank_test_score'])\n",
        "results_df = (results_df .set_index(results_df[\"params\"].apply(lambda x: \"_\".join(str(val) for val in x.values()))).rename_axis('var_smoothing'))\n",
        "results_df[['params', 'rank_test_score', 'mean_test_score', 'std_test_score']]"
      ],
      "execution_count": null,
      "outputs": [
        {
          "output_type": "execute_result",
          "data": {
            "text/html": [
              "<div>\n",
              "<style scoped>\n",
              "    .dataframe tbody tr th:only-of-type {\n",
              "        vertical-align: middle;\n",
              "    }\n",
              "\n",
              "    .dataframe tbody tr th {\n",
              "        vertical-align: top;\n",
              "    }\n",
              "\n",
              "    .dataframe thead th {\n",
              "        text-align: right;\n",
              "    }\n",
              "</style>\n",
              "<table border=\"1\" class=\"dataframe\">\n",
              "  <thead>\n",
              "    <tr style=\"text-align: right;\">\n",
              "      <th></th>\n",
              "      <th>params</th>\n",
              "      <th>rank_test_score</th>\n",
              "      <th>mean_test_score</th>\n",
              "      <th>std_test_score</th>\n",
              "    </tr>\n",
              "    <tr>\n",
              "      <th>var_smoothing</th>\n",
              "      <th></th>\n",
              "      <th></th>\n",
              "      <th></th>\n",
              "      <th></th>\n",
              "    </tr>\n",
              "  </thead>\n",
              "  <tbody>\n",
              "    <tr>\n",
              "      <th>0.08111308307896872</th>\n",
              "      <td>{'var_smoothing': 0.08111308307896872}</td>\n",
              "      <td>1</td>\n",
              "      <td>0.511750</td>\n",
              "      <td>0.015522</td>\n",
              "    </tr>\n",
              "    <tr>\n",
              "      <th>0.0657933224657568</th>\n",
              "      <td>{'var_smoothing': 0.0657933224657568}</td>\n",
              "      <td>2</td>\n",
              "      <td>0.511583</td>\n",
              "      <td>0.015292</td>\n",
              "    </tr>\n",
              "    <tr>\n",
              "      <th>0.1</th>\n",
              "      <td>{'var_smoothing': 0.1}</td>\n",
              "      <td>3</td>\n",
              "      <td>0.511250</td>\n",
              "      <td>0.016109</td>\n",
              "    </tr>\n",
              "    <tr>\n",
              "      <th>0.0533669923120631</th>\n",
              "      <td>{'var_smoothing': 0.0533669923120631}</td>\n",
              "      <td>4</td>\n",
              "      <td>0.511250</td>\n",
              "      <td>0.015303</td>\n",
              "    </tr>\n",
              "    <tr>\n",
              "      <th>0.04328761281083057</th>\n",
              "      <td>{'var_smoothing': 0.04328761281083057}</td>\n",
              "      <td>5</td>\n",
              "      <td>0.510167</td>\n",
              "      <td>0.015107</td>\n",
              "    </tr>\n",
              "    <tr>\n",
              "      <th>...</th>\n",
              "      <td>...</td>\n",
              "      <td>...</td>\n",
              "      <td>...</td>\n",
              "      <td>...</td>\n",
              "    </tr>\n",
              "    <tr>\n",
              "      <th>2.310129700083158e-09</th>\n",
              "      <td>{'var_smoothing': 2.310129700083158e-09}</td>\n",
              "      <td>96</td>\n",
              "      <td>0.437833</td>\n",
              "      <td>0.023743</td>\n",
              "    </tr>\n",
              "    <tr>\n",
              "      <th>1.873817422860387e-09</th>\n",
              "      <td>{'var_smoothing': 1.873817422860387e-09}</td>\n",
              "      <td>97</td>\n",
              "      <td>0.437750</td>\n",
              "      <td>0.023743</td>\n",
              "    </tr>\n",
              "    <tr>\n",
              "      <th>1.519911082952933e-09</th>\n",
              "      <td>{'var_smoothing': 1.519911082952933e-09}</td>\n",
              "      <td>98</td>\n",
              "      <td>0.437333</td>\n",
              "      <td>0.023762</td>\n",
              "    </tr>\n",
              "    <tr>\n",
              "      <th>1.2328467394420635e-09</th>\n",
              "      <td>{'var_smoothing': 1.2328467394420635e-09}</td>\n",
              "      <td>99</td>\n",
              "      <td>0.437000</td>\n",
              "      <td>0.023693</td>\n",
              "    </tr>\n",
              "    <tr>\n",
              "      <th>1e-09</th>\n",
              "      <td>{'var_smoothing': 1e-09}</td>\n",
              "      <td>100</td>\n",
              "      <td>0.436167</td>\n",
              "      <td>0.023622</td>\n",
              "    </tr>\n",
              "  </tbody>\n",
              "</table>\n",
              "<p>100 rows × 4 columns</p>\n",
              "</div>"
            ],
            "text/plain": [
              "                                                           params  ...  std_test_score\n",
              "var_smoothing                                                      ...                \n",
              "0.08111308307896872        {'var_smoothing': 0.08111308307896872}  ...        0.015522\n",
              "0.0657933224657568          {'var_smoothing': 0.0657933224657568}  ...        0.015292\n",
              "0.1                                        {'var_smoothing': 0.1}  ...        0.016109\n",
              "0.0533669923120631          {'var_smoothing': 0.0533669923120631}  ...        0.015303\n",
              "0.04328761281083057        {'var_smoothing': 0.04328761281083057}  ...        0.015107\n",
              "...                                                           ...  ...             ...\n",
              "2.310129700083158e-09    {'var_smoothing': 2.310129700083158e-09}  ...        0.023743\n",
              "1.873817422860387e-09    {'var_smoothing': 1.873817422860387e-09}  ...        0.023743\n",
              "1.519911082952933e-09    {'var_smoothing': 1.519911082952933e-09}  ...        0.023762\n",
              "1.2328467394420635e-09  {'var_smoothing': 1.2328467394420635e-09}  ...        0.023693\n",
              "1e-09                                    {'var_smoothing': 1e-09}  ...        0.023622\n",
              "\n",
              "[100 rows x 4 columns]"
            ]
          },
          "metadata": {
            "tags": []
          },
          "execution_count": 11
        }
      ]
    },
    {
      "cell_type": "markdown",
      "metadata": {
        "id": "tbctDKkHNiG3"
      },
      "source": [
        "# Мажоритарное голосование(Логистическая регрессия, Наивный Байес, Линейный SVC)"
      ]
    },
    {
      "cell_type": "code",
      "metadata": {
        "colab": {
          "base_uri": "https://localhost:8080/",
          "height": 895
        },
        "id": "mszk7E11PAdZ",
        "outputId": "8e22b8a8-f2d4-4a98-b24d-ee8efda53984"
      },
      "source": [
        "svc_ = LinearSVC()\n",
        "params = {\"C\": [1, 10],\"loss\":[\"hinge\", \"square_hinge\"]}\n",
        "clf_svc = GridSearchCV(svc_,params)\n",
        "clf_svc.fit(binary_train, balanced_labels_train)\n",
        "\n",
        "results_df = pd.DataFrame(clf_svc.cv_results_)\n",
        "results_df = results_df.sort_values(by=['rank_test_score'])\n",
        "results_df = (results_df .set_index(results_df[\"params\"].apply(lambda x: \"_\".join(str(val) for val in x.values()))).rename_axis('params'))\n",
        "results_df[['params', 'rank_test_score', 'mean_test_score', 'std_test_score']]"
      ],
      "execution_count": null,
      "outputs": [
        {
          "output_type": "stream",
          "text": [
            "/usr/local/lib/python3.7/dist-packages/sklearn/model_selection/_validation.py:536: FitFailedWarning: Estimator fit failed. The score on this train-test partition for these parameters will be set to nan. Details: \n",
            "ValueError: Unsupported set of arguments: loss='square_hinge' is not supported, Parameters: penalty='l2', loss='square_hinge', dual=True\n",
            "\n",
            "  FitFailedWarning)\n",
            "/usr/local/lib/python3.7/dist-packages/sklearn/model_selection/_validation.py:536: FitFailedWarning: Estimator fit failed. The score on this train-test partition for these parameters will be set to nan. Details: \n",
            "ValueError: Unsupported set of arguments: loss='square_hinge' is not supported, Parameters: penalty='l2', loss='square_hinge', dual=True\n",
            "\n",
            "  FitFailedWarning)\n",
            "/usr/local/lib/python3.7/dist-packages/sklearn/model_selection/_validation.py:536: FitFailedWarning: Estimator fit failed. The score on this train-test partition for these parameters will be set to nan. Details: \n",
            "ValueError: Unsupported set of arguments: loss='square_hinge' is not supported, Parameters: penalty='l2', loss='square_hinge', dual=True\n",
            "\n",
            "  FitFailedWarning)\n",
            "/usr/local/lib/python3.7/dist-packages/sklearn/model_selection/_validation.py:536: FitFailedWarning: Estimator fit failed. The score on this train-test partition for these parameters will be set to nan. Details: \n",
            "ValueError: Unsupported set of arguments: loss='square_hinge' is not supported, Parameters: penalty='l2', loss='square_hinge', dual=True\n",
            "\n",
            "  FitFailedWarning)\n",
            "/usr/local/lib/python3.7/dist-packages/sklearn/model_selection/_validation.py:536: FitFailedWarning: Estimator fit failed. The score on this train-test partition for these parameters will be set to nan. Details: \n",
            "ValueError: Unsupported set of arguments: loss='square_hinge' is not supported, Parameters: penalty='l2', loss='square_hinge', dual=True\n",
            "\n",
            "  FitFailedWarning)\n",
            "/usr/local/lib/python3.7/dist-packages/sklearn/model_selection/_validation.py:536: FitFailedWarning: Estimator fit failed. The score on this train-test partition for these parameters will be set to nan. Details: \n",
            "ValueError: Unsupported set of arguments: loss='square_hinge' is not supported, Parameters: penalty='l2', loss='square_hinge', dual=True\n",
            "\n",
            "  FitFailedWarning)\n",
            "/usr/local/lib/python3.7/dist-packages/sklearn/model_selection/_validation.py:536: FitFailedWarning: Estimator fit failed. The score on this train-test partition for these parameters will be set to nan. Details: \n",
            "ValueError: Unsupported set of arguments: loss='square_hinge' is not supported, Parameters: penalty='l2', loss='square_hinge', dual=True\n",
            "\n",
            "  FitFailedWarning)\n",
            "/usr/local/lib/python3.7/dist-packages/sklearn/model_selection/_validation.py:536: FitFailedWarning: Estimator fit failed. The score on this train-test partition for these parameters will be set to nan. Details: \n",
            "ValueError: Unsupported set of arguments: loss='square_hinge' is not supported, Parameters: penalty='l2', loss='square_hinge', dual=True\n",
            "\n",
            "  FitFailedWarning)\n",
            "/usr/local/lib/python3.7/dist-packages/sklearn/model_selection/_validation.py:536: FitFailedWarning: Estimator fit failed. The score on this train-test partition for these parameters will be set to nan. Details: \n",
            "ValueError: Unsupported set of arguments: loss='square_hinge' is not supported, Parameters: penalty='l2', loss='square_hinge', dual=True\n",
            "\n",
            "  FitFailedWarning)\n",
            "/usr/local/lib/python3.7/dist-packages/sklearn/model_selection/_validation.py:536: FitFailedWarning: Estimator fit failed. The score on this train-test partition for these parameters will be set to nan. Details: \n",
            "ValueError: Unsupported set of arguments: loss='square_hinge' is not supported, Parameters: penalty='l2', loss='square_hinge', dual=True\n",
            "\n",
            "  FitFailedWarning)\n"
          ],
          "name": "stderr"
        },
        {
          "output_type": "execute_result",
          "data": {
            "text/html": [
              "<div>\n",
              "<style scoped>\n",
              "    .dataframe tbody tr th:only-of-type {\n",
              "        vertical-align: middle;\n",
              "    }\n",
              "\n",
              "    .dataframe tbody tr th {\n",
              "        vertical-align: top;\n",
              "    }\n",
              "\n",
              "    .dataframe thead th {\n",
              "        text-align: right;\n",
              "    }\n",
              "</style>\n",
              "<table border=\"1\" class=\"dataframe\">\n",
              "  <thead>\n",
              "    <tr style=\"text-align: right;\">\n",
              "      <th></th>\n",
              "      <th>params</th>\n",
              "      <th>rank_test_score</th>\n",
              "      <th>mean_test_score</th>\n",
              "      <th>std_test_score</th>\n",
              "    </tr>\n",
              "    <tr>\n",
              "      <th>params</th>\n",
              "      <th></th>\n",
              "      <th></th>\n",
              "      <th></th>\n",
              "      <th></th>\n",
              "    </tr>\n",
              "  </thead>\n",
              "  <tbody>\n",
              "    <tr>\n",
              "      <th>1_hinge</th>\n",
              "      <td>{'C': 1, 'loss': 'hinge'}</td>\n",
              "      <td>1</td>\n",
              "      <td>0.455333</td>\n",
              "      <td>0.018807</td>\n",
              "    </tr>\n",
              "    <tr>\n",
              "      <th>10_hinge</th>\n",
              "      <td>{'C': 10, 'loss': 'hinge'}</td>\n",
              "      <td>2</td>\n",
              "      <td>0.441083</td>\n",
              "      <td>0.037156</td>\n",
              "    </tr>\n",
              "    <tr>\n",
              "      <th>1_square_hinge</th>\n",
              "      <td>{'C': 1, 'loss': 'square_hinge'}</td>\n",
              "      <td>3</td>\n",
              "      <td>NaN</td>\n",
              "      <td>NaN</td>\n",
              "    </tr>\n",
              "    <tr>\n",
              "      <th>10_square_hinge</th>\n",
              "      <td>{'C': 10, 'loss': 'square_hinge'}</td>\n",
              "      <td>4</td>\n",
              "      <td>NaN</td>\n",
              "      <td>NaN</td>\n",
              "    </tr>\n",
              "  </tbody>\n",
              "</table>\n",
              "</div>"
            ],
            "text/plain": [
              "                                            params  ...  std_test_score\n",
              "params                                              ...                \n",
              "1_hinge                  {'C': 1, 'loss': 'hinge'}  ...        0.018807\n",
              "10_hinge                {'C': 10, 'loss': 'hinge'}  ...        0.037156\n",
              "1_square_hinge    {'C': 1, 'loss': 'square_hinge'}  ...             NaN\n",
              "10_square_hinge  {'C': 10, 'loss': 'square_hinge'}  ...             NaN\n",
              "\n",
              "[4 rows x 4 columns]"
            ]
          },
          "metadata": {
            "tags": []
          },
          "execution_count": 12
        }
      ]
    },
    {
      "cell_type": "code",
      "metadata": {
        "colab": {
          "base_uri": "https://localhost:8080/",
          "height": 1000
        },
        "id": "vkR72lWXQtN2",
        "outputId": "8bb5c87f-b072-4077-8ebe-4da24c67a8a4"
      },
      "source": [
        "log_ = LogisticRegression(n_jobs=1)\n",
        "params = {\"C\":np.logspace(-3,3,7), \"penalty\":[\"l1\",\"l2\"]}\n",
        "clf_log = GridSearchCV(log_,params,n_jobs=None)\n",
        "clf_log.fit(binary_train, balanced_labels_train)\n",
        "\n",
        "results_df = pd.DataFrame(clf_log.cv_results_)\n",
        "results_df = results_df.sort_values(by=['rank_test_score'])\n",
        "results_df = (results_df .set_index(results_df[\"params\"].apply(lambda x: \"_\".join(str(val) for val in x.values()))).rename_axis('params'))\n",
        "results_df[['params', 'rank_test_score', 'mean_test_score', 'std_test_score']]"
      ],
      "execution_count": null,
      "outputs": [
        {
          "output_type": "stream",
          "text": [
            "/usr/local/lib/python3.7/dist-packages/sklearn/model_selection/_validation.py:536: FitFailedWarning: Estimator fit failed. The score on this train-test partition for these parameters will be set to nan. Details: \n",
            "ValueError: Solver lbfgs supports only 'l2' or 'none' penalties, got l1 penalty.\n",
            "\n",
            "  FitFailedWarning)\n",
            "/usr/local/lib/python3.7/dist-packages/sklearn/model_selection/_validation.py:536: FitFailedWarning: Estimator fit failed. The score on this train-test partition for these parameters will be set to nan. Details: \n",
            "ValueError: Solver lbfgs supports only 'l2' or 'none' penalties, got l1 penalty.\n",
            "\n",
            "  FitFailedWarning)\n",
            "/usr/local/lib/python3.7/dist-packages/sklearn/model_selection/_validation.py:536: FitFailedWarning: Estimator fit failed. The score on this train-test partition for these parameters will be set to nan. Details: \n",
            "ValueError: Solver lbfgs supports only 'l2' or 'none' penalties, got l1 penalty.\n",
            "\n",
            "  FitFailedWarning)\n",
            "/usr/local/lib/python3.7/dist-packages/sklearn/model_selection/_validation.py:536: FitFailedWarning: Estimator fit failed. The score on this train-test partition for these parameters will be set to nan. Details: \n",
            "ValueError: Solver lbfgs supports only 'l2' or 'none' penalties, got l1 penalty.\n",
            "\n",
            "  FitFailedWarning)\n",
            "/usr/local/lib/python3.7/dist-packages/sklearn/linear_model/_logistic.py:940: ConvergenceWarning: lbfgs failed to converge (status=1):\n",
            "STOP: TOTAL NO. of ITERATIONS REACHED LIMIT.\n",
            "\n",
            "Increase the number of iterations (max_iter) or scale the data as shown in:\n",
            "    https://scikit-learn.org/stable/modules/preprocessing.html\n",
            "Please also refer to the documentation for alternative solver options:\n",
            "    https://scikit-learn.org/stable/modules/linear_model.html#logistic-regression\n",
            "  extra_warning_msg=_LOGISTIC_SOLVER_CONVERGENCE_MSG)\n",
            "/usr/local/lib/python3.7/dist-packages/sklearn/linear_model/_logistic.py:940: ConvergenceWarning: lbfgs failed to converge (status=1):\n",
            "STOP: TOTAL NO. of ITERATIONS REACHED LIMIT.\n",
            "\n",
            "Increase the number of iterations (max_iter) or scale the data as shown in:\n",
            "    https://scikit-learn.org/stable/modules/preprocessing.html\n",
            "Please also refer to the documentation for alternative solver options:\n",
            "    https://scikit-learn.org/stable/modules/linear_model.html#logistic-regression\n",
            "  extra_warning_msg=_LOGISTIC_SOLVER_CONVERGENCE_MSG)\n",
            "/usr/local/lib/python3.7/dist-packages/sklearn/linear_model/_logistic.py:940: ConvergenceWarning: lbfgs failed to converge (status=1):\n",
            "STOP: TOTAL NO. of ITERATIONS REACHED LIMIT.\n",
            "\n",
            "Increase the number of iterations (max_iter) or scale the data as shown in:\n",
            "    https://scikit-learn.org/stable/modules/preprocessing.html\n",
            "Please also refer to the documentation for alternative solver options:\n",
            "    https://scikit-learn.org/stable/modules/linear_model.html#logistic-regression\n",
            "  extra_warning_msg=_LOGISTIC_SOLVER_CONVERGENCE_MSG)\n",
            "/usr/local/lib/python3.7/dist-packages/sklearn/linear_model/_logistic.py:940: ConvergenceWarning: lbfgs failed to converge (status=1):\n",
            "STOP: TOTAL NO. of ITERATIONS REACHED LIMIT.\n",
            "\n",
            "Increase the number of iterations (max_iter) or scale the data as shown in:\n",
            "    https://scikit-learn.org/stable/modules/preprocessing.html\n",
            "Please also refer to the documentation for alternative solver options:\n",
            "    https://scikit-learn.org/stable/modules/linear_model.html#logistic-regression\n",
            "  extra_warning_msg=_LOGISTIC_SOLVER_CONVERGENCE_MSG)\n",
            "/usr/local/lib/python3.7/dist-packages/sklearn/linear_model/_logistic.py:940: ConvergenceWarning: lbfgs failed to converge (status=1):\n",
            "STOP: TOTAL NO. of ITERATIONS REACHED LIMIT.\n",
            "\n",
            "Increase the number of iterations (max_iter) or scale the data as shown in:\n",
            "    https://scikit-learn.org/stable/modules/preprocessing.html\n",
            "Please also refer to the documentation for alternative solver options:\n",
            "    https://scikit-learn.org/stable/modules/linear_model.html#logistic-regression\n",
            "  extra_warning_msg=_LOGISTIC_SOLVER_CONVERGENCE_MSG)\n",
            "/usr/local/lib/python3.7/dist-packages/sklearn/model_selection/_validation.py:536: FitFailedWarning: Estimator fit failed. The score on this train-test partition for these parameters will be set to nan. Details: \n",
            "ValueError: Solver lbfgs supports only 'l2' or 'none' penalties, got l1 penalty.\n",
            "\n",
            "  FitFailedWarning)\n",
            "/usr/local/lib/python3.7/dist-packages/sklearn/linear_model/_logistic.py:940: ConvergenceWarning: lbfgs failed to converge (status=1):\n",
            "STOP: TOTAL NO. of ITERATIONS REACHED LIMIT.\n",
            "\n",
            "Increase the number of iterations (max_iter) or scale the data as shown in:\n",
            "    https://scikit-learn.org/stable/modules/preprocessing.html\n",
            "Please also refer to the documentation for alternative solver options:\n",
            "    https://scikit-learn.org/stable/modules/linear_model.html#logistic-regression\n",
            "  extra_warning_msg=_LOGISTIC_SOLVER_CONVERGENCE_MSG)\n",
            "/usr/local/lib/python3.7/dist-packages/sklearn/linear_model/_logistic.py:940: ConvergenceWarning: lbfgs failed to converge (status=1):\n",
            "STOP: TOTAL NO. of ITERATIONS REACHED LIMIT.\n",
            "\n",
            "Increase the number of iterations (max_iter) or scale the data as shown in:\n",
            "    https://scikit-learn.org/stable/modules/preprocessing.html\n",
            "Please also refer to the documentation for alternative solver options:\n",
            "    https://scikit-learn.org/stable/modules/linear_model.html#logistic-regression\n",
            "  extra_warning_msg=_LOGISTIC_SOLVER_CONVERGENCE_MSG)\n",
            "/usr/local/lib/python3.7/dist-packages/sklearn/linear_model/_logistic.py:940: ConvergenceWarning: lbfgs failed to converge (status=1):\n",
            "STOP: TOTAL NO. of ITERATIONS REACHED LIMIT.\n",
            "\n",
            "Increase the number of iterations (max_iter) or scale the data as shown in:\n",
            "    https://scikit-learn.org/stable/modules/preprocessing.html\n",
            "Please also refer to the documentation for alternative solver options:\n",
            "    https://scikit-learn.org/stable/modules/linear_model.html#logistic-regression\n",
            "  extra_warning_msg=_LOGISTIC_SOLVER_CONVERGENCE_MSG)\n",
            "/usr/local/lib/python3.7/dist-packages/sklearn/linear_model/_logistic.py:940: ConvergenceWarning: lbfgs failed to converge (status=1):\n",
            "STOP: TOTAL NO. of ITERATIONS REACHED LIMIT.\n",
            "\n",
            "Increase the number of iterations (max_iter) or scale the data as shown in:\n",
            "    https://scikit-learn.org/stable/modules/preprocessing.html\n",
            "Please also refer to the documentation for alternative solver options:\n",
            "    https://scikit-learn.org/stable/modules/linear_model.html#logistic-regression\n",
            "  extra_warning_msg=_LOGISTIC_SOLVER_CONVERGENCE_MSG)\n",
            "/usr/local/lib/python3.7/dist-packages/sklearn/linear_model/_logistic.py:940: ConvergenceWarning: lbfgs failed to converge (status=1):\n",
            "STOP: TOTAL NO. of ITERATIONS REACHED LIMIT.\n",
            "\n",
            "Increase the number of iterations (max_iter) or scale the data as shown in:\n",
            "    https://scikit-learn.org/stable/modules/preprocessing.html\n",
            "Please also refer to the documentation for alternative solver options:\n",
            "    https://scikit-learn.org/stable/modules/linear_model.html#logistic-regression\n",
            "  extra_warning_msg=_LOGISTIC_SOLVER_CONVERGENCE_MSG)\n",
            "/usr/local/lib/python3.7/dist-packages/sklearn/model_selection/_validation.py:536: FitFailedWarning: Estimator fit failed. The score on this train-test partition for these parameters will be set to nan. Details: \n",
            "ValueError: Solver lbfgs supports only 'l2' or 'none' penalties, got l1 penalty.\n",
            "\n",
            "  FitFailedWarning)\n",
            "/usr/local/lib/python3.7/dist-packages/sklearn/linear_model/_logistic.py:940: ConvergenceWarning: lbfgs failed to converge (status=1):\n",
            "STOP: TOTAL NO. of ITERATIONS REACHED LIMIT.\n",
            "\n",
            "Increase the number of iterations (max_iter) or scale the data as shown in:\n",
            "    https://scikit-learn.org/stable/modules/preprocessing.html\n",
            "Please also refer to the documentation for alternative solver options:\n",
            "    https://scikit-learn.org/stable/modules/linear_model.html#logistic-regression\n",
            "  extra_warning_msg=_LOGISTIC_SOLVER_CONVERGENCE_MSG)\n",
            "/usr/local/lib/python3.7/dist-packages/sklearn/linear_model/_logistic.py:940: ConvergenceWarning: lbfgs failed to converge (status=1):\n",
            "STOP: TOTAL NO. of ITERATIONS REACHED LIMIT.\n",
            "\n",
            "Increase the number of iterations (max_iter) or scale the data as shown in:\n",
            "    https://scikit-learn.org/stable/modules/preprocessing.html\n",
            "Please also refer to the documentation for alternative solver options:\n",
            "    https://scikit-learn.org/stable/modules/linear_model.html#logistic-regression\n",
            "  extra_warning_msg=_LOGISTIC_SOLVER_CONVERGENCE_MSG)\n",
            "/usr/local/lib/python3.7/dist-packages/sklearn/linear_model/_logistic.py:940: ConvergenceWarning: lbfgs failed to converge (status=1):\n",
            "STOP: TOTAL NO. of ITERATIONS REACHED LIMIT.\n",
            "\n",
            "Increase the number of iterations (max_iter) or scale the data as shown in:\n",
            "    https://scikit-learn.org/stable/modules/preprocessing.html\n",
            "Please also refer to the documentation for alternative solver options:\n",
            "    https://scikit-learn.org/stable/modules/linear_model.html#logistic-regression\n",
            "  extra_warning_msg=_LOGISTIC_SOLVER_CONVERGENCE_MSG)\n",
            "/usr/local/lib/python3.7/dist-packages/sklearn/linear_model/_logistic.py:940: ConvergenceWarning: lbfgs failed to converge (status=1):\n",
            "STOP: TOTAL NO. of ITERATIONS REACHED LIMIT.\n",
            "\n",
            "Increase the number of iterations (max_iter) or scale the data as shown in:\n",
            "    https://scikit-learn.org/stable/modules/preprocessing.html\n",
            "Please also refer to the documentation for alternative solver options:\n",
            "    https://scikit-learn.org/stable/modules/linear_model.html#logistic-regression\n",
            "  extra_warning_msg=_LOGISTIC_SOLVER_CONVERGENCE_MSG)\n",
            "/usr/local/lib/python3.7/dist-packages/sklearn/linear_model/_logistic.py:940: ConvergenceWarning: lbfgs failed to converge (status=1):\n",
            "STOP: TOTAL NO. of ITERATIONS REACHED LIMIT.\n",
            "\n",
            "Increase the number of iterations (max_iter) or scale the data as shown in:\n",
            "    https://scikit-learn.org/stable/modules/preprocessing.html\n",
            "Please also refer to the documentation for alternative solver options:\n",
            "    https://scikit-learn.org/stable/modules/linear_model.html#logistic-regression\n",
            "  extra_warning_msg=_LOGISTIC_SOLVER_CONVERGENCE_MSG)\n",
            "/usr/local/lib/python3.7/dist-packages/sklearn/model_selection/_validation.py:536: FitFailedWarning: Estimator fit failed. The score on this train-test partition for these parameters will be set to nan. Details: \n",
            "ValueError: Solver lbfgs supports only 'l2' or 'none' penalties, got l1 penalty.\n",
            "\n",
            "  FitFailedWarning)\n",
            "/usr/local/lib/python3.7/dist-packages/sklearn/linear_model/_logistic.py:940: ConvergenceWarning: lbfgs failed to converge (status=1):\n",
            "STOP: TOTAL NO. of ITERATIONS REACHED LIMIT.\n",
            "\n",
            "Increase the number of iterations (max_iter) or scale the data as shown in:\n",
            "    https://scikit-learn.org/stable/modules/preprocessing.html\n",
            "Please also refer to the documentation for alternative solver options:\n",
            "    https://scikit-learn.org/stable/modules/linear_model.html#logistic-regression\n",
            "  extra_warning_msg=_LOGISTIC_SOLVER_CONVERGENCE_MSG)\n",
            "/usr/local/lib/python3.7/dist-packages/sklearn/linear_model/_logistic.py:940: ConvergenceWarning: lbfgs failed to converge (status=1):\n",
            "STOP: TOTAL NO. of ITERATIONS REACHED LIMIT.\n",
            "\n",
            "Increase the number of iterations (max_iter) or scale the data as shown in:\n",
            "    https://scikit-learn.org/stable/modules/preprocessing.html\n",
            "Please also refer to the documentation for alternative solver options:\n",
            "    https://scikit-learn.org/stable/modules/linear_model.html#logistic-regression\n",
            "  extra_warning_msg=_LOGISTIC_SOLVER_CONVERGENCE_MSG)\n",
            "/usr/local/lib/python3.7/dist-packages/sklearn/linear_model/_logistic.py:940: ConvergenceWarning: lbfgs failed to converge (status=1):\n",
            "STOP: TOTAL NO. of ITERATIONS REACHED LIMIT.\n",
            "\n",
            "Increase the number of iterations (max_iter) or scale the data as shown in:\n",
            "    https://scikit-learn.org/stable/modules/preprocessing.html\n",
            "Please also refer to the documentation for alternative solver options:\n",
            "    https://scikit-learn.org/stable/modules/linear_model.html#logistic-regression\n",
            "  extra_warning_msg=_LOGISTIC_SOLVER_CONVERGENCE_MSG)\n",
            "/usr/local/lib/python3.7/dist-packages/sklearn/linear_model/_logistic.py:940: ConvergenceWarning: lbfgs failed to converge (status=1):\n",
            "STOP: TOTAL NO. of ITERATIONS REACHED LIMIT.\n",
            "\n",
            "Increase the number of iterations (max_iter) or scale the data as shown in:\n",
            "    https://scikit-learn.org/stable/modules/preprocessing.html\n",
            "Please also refer to the documentation for alternative solver options:\n",
            "    https://scikit-learn.org/stable/modules/linear_model.html#logistic-regression\n",
            "  extra_warning_msg=_LOGISTIC_SOLVER_CONVERGENCE_MSG)\n",
            "/usr/local/lib/python3.7/dist-packages/sklearn/linear_model/_logistic.py:940: ConvergenceWarning: lbfgs failed to converge (status=1):\n",
            "STOP: TOTAL NO. of ITERATIONS REACHED LIMIT.\n",
            "\n",
            "Increase the number of iterations (max_iter) or scale the data as shown in:\n",
            "    https://scikit-learn.org/stable/modules/preprocessing.html\n",
            "Please also refer to the documentation for alternative solver options:\n",
            "    https://scikit-learn.org/stable/modules/linear_model.html#logistic-regression\n",
            "  extra_warning_msg=_LOGISTIC_SOLVER_CONVERGENCE_MSG)\n",
            "/usr/local/lib/python3.7/dist-packages/sklearn/linear_model/_logistic.py:940: ConvergenceWarning: lbfgs failed to converge (status=1):\n",
            "STOP: TOTAL NO. of ITERATIONS REACHED LIMIT.\n",
            "\n",
            "Increase the number of iterations (max_iter) or scale the data as shown in:\n",
            "    https://scikit-learn.org/stable/modules/preprocessing.html\n",
            "Please also refer to the documentation for alternative solver options:\n",
            "    https://scikit-learn.org/stable/modules/linear_model.html#logistic-regression\n",
            "  extra_warning_msg=_LOGISTIC_SOLVER_CONVERGENCE_MSG)\n"
          ],
          "name": "stderr"
        },
        {
          "output_type": "execute_result",
          "data": {
            "text/html": [
              "<div>\n",
              "<style scoped>\n",
              "    .dataframe tbody tr th:only-of-type {\n",
              "        vertical-align: middle;\n",
              "    }\n",
              "\n",
              "    .dataframe tbody tr th {\n",
              "        vertical-align: top;\n",
              "    }\n",
              "\n",
              "    .dataframe thead th {\n",
              "        text-align: right;\n",
              "    }\n",
              "</style>\n",
              "<table border=\"1\" class=\"dataframe\">\n",
              "  <thead>\n",
              "    <tr style=\"text-align: right;\">\n",
              "      <th></th>\n",
              "      <th>params</th>\n",
              "      <th>rank_test_score</th>\n",
              "      <th>mean_test_score</th>\n",
              "      <th>std_test_score</th>\n",
              "    </tr>\n",
              "    <tr>\n",
              "      <th>params</th>\n",
              "      <th></th>\n",
              "      <th></th>\n",
              "      <th></th>\n",
              "      <th></th>\n",
              "    </tr>\n",
              "  </thead>\n",
              "  <tbody>\n",
              "    <tr>\n",
              "      <th>100.0_l2</th>\n",
              "      <td>{'C': 100.0, 'penalty': 'l2'}</td>\n",
              "      <td>1</td>\n",
              "      <td>0.511500</td>\n",
              "      <td>0.017687</td>\n",
              "    </tr>\n",
              "    <tr>\n",
              "      <th>1000.0_l2</th>\n",
              "      <td>{'C': 1000.0, 'penalty': 'l2'}</td>\n",
              "      <td>1</td>\n",
              "      <td>0.511500</td>\n",
              "      <td>0.017730</td>\n",
              "    </tr>\n",
              "    <tr>\n",
              "      <th>10.0_l2</th>\n",
              "      <td>{'C': 10.0, 'penalty': 'l2'}</td>\n",
              "      <td>3</td>\n",
              "      <td>0.511167</td>\n",
              "      <td>0.017521</td>\n",
              "    </tr>\n",
              "    <tr>\n",
              "      <th>1.0_l2</th>\n",
              "      <td>{'C': 1.0, 'penalty': 'l2'}</td>\n",
              "      <td>4</td>\n",
              "      <td>0.511000</td>\n",
              "      <td>0.017942</td>\n",
              "    </tr>\n",
              "    <tr>\n",
              "      <th>0.01_l2</th>\n",
              "      <td>{'C': 0.01, 'penalty': 'l2'}</td>\n",
              "      <td>5</td>\n",
              "      <td>0.510917</td>\n",
              "      <td>0.017239</td>\n",
              "    </tr>\n",
              "    <tr>\n",
              "      <th>0.1_l2</th>\n",
              "      <td>{'C': 0.1, 'penalty': 'l2'}</td>\n",
              "      <td>5</td>\n",
              "      <td>0.510917</td>\n",
              "      <td>0.017255</td>\n",
              "    </tr>\n",
              "    <tr>\n",
              "      <th>0.001_l2</th>\n",
              "      <td>{'C': 0.001, 'penalty': 'l2'}</td>\n",
              "      <td>7</td>\n",
              "      <td>0.493167</td>\n",
              "      <td>0.012006</td>\n",
              "    </tr>\n",
              "    <tr>\n",
              "      <th>0.001_l1</th>\n",
              "      <td>{'C': 0.001, 'penalty': 'l1'}</td>\n",
              "      <td>8</td>\n",
              "      <td>NaN</td>\n",
              "      <td>NaN</td>\n",
              "    </tr>\n",
              "    <tr>\n",
              "      <th>0.01_l1</th>\n",
              "      <td>{'C': 0.01, 'penalty': 'l1'}</td>\n",
              "      <td>9</td>\n",
              "      <td>NaN</td>\n",
              "      <td>NaN</td>\n",
              "    </tr>\n",
              "    <tr>\n",
              "      <th>0.1_l1</th>\n",
              "      <td>{'C': 0.1, 'penalty': 'l1'}</td>\n",
              "      <td>10</td>\n",
              "      <td>NaN</td>\n",
              "      <td>NaN</td>\n",
              "    </tr>\n",
              "    <tr>\n",
              "      <th>1.0_l1</th>\n",
              "      <td>{'C': 1.0, 'penalty': 'l1'}</td>\n",
              "      <td>11</td>\n",
              "      <td>NaN</td>\n",
              "      <td>NaN</td>\n",
              "    </tr>\n",
              "    <tr>\n",
              "      <th>10.0_l1</th>\n",
              "      <td>{'C': 10.0, 'penalty': 'l1'}</td>\n",
              "      <td>12</td>\n",
              "      <td>NaN</td>\n",
              "      <td>NaN</td>\n",
              "    </tr>\n",
              "    <tr>\n",
              "      <th>100.0_l1</th>\n",
              "      <td>{'C': 100.0, 'penalty': 'l1'}</td>\n",
              "      <td>13</td>\n",
              "      <td>NaN</td>\n",
              "      <td>NaN</td>\n",
              "    </tr>\n",
              "    <tr>\n",
              "      <th>1000.0_l1</th>\n",
              "      <td>{'C': 1000.0, 'penalty': 'l1'}</td>\n",
              "      <td>14</td>\n",
              "      <td>NaN</td>\n",
              "      <td>NaN</td>\n",
              "    </tr>\n",
              "  </tbody>\n",
              "</table>\n",
              "</div>"
            ],
            "text/plain": [
              "                                   params  ...  std_test_score\n",
              "params                                     ...                \n",
              "100.0_l2    {'C': 100.0, 'penalty': 'l2'}  ...        0.017687\n",
              "1000.0_l2  {'C': 1000.0, 'penalty': 'l2'}  ...        0.017730\n",
              "10.0_l2      {'C': 10.0, 'penalty': 'l2'}  ...        0.017521\n",
              "1.0_l2        {'C': 1.0, 'penalty': 'l2'}  ...        0.017942\n",
              "0.01_l2      {'C': 0.01, 'penalty': 'l2'}  ...        0.017239\n",
              "0.1_l2        {'C': 0.1, 'penalty': 'l2'}  ...        0.017255\n",
              "0.001_l2    {'C': 0.001, 'penalty': 'l2'}  ...        0.012006\n",
              "0.001_l1    {'C': 0.001, 'penalty': 'l1'}  ...             NaN\n",
              "0.01_l1      {'C': 0.01, 'penalty': 'l1'}  ...             NaN\n",
              "0.1_l1        {'C': 0.1, 'penalty': 'l1'}  ...             NaN\n",
              "1.0_l1        {'C': 1.0, 'penalty': 'l1'}  ...             NaN\n",
              "10.0_l1      {'C': 10.0, 'penalty': 'l1'}  ...             NaN\n",
              "100.0_l1    {'C': 100.0, 'penalty': 'l1'}  ...             NaN\n",
              "1000.0_l1  {'C': 1000.0, 'penalty': 'l1'}  ...             NaN\n",
              "\n",
              "[14 rows x 4 columns]"
            ]
          },
          "metadata": {
            "tags": []
          },
          "execution_count": 14
        }
      ]
    },
    {
      "cell_type": "code",
      "metadata": {
        "colab": {
          "base_uri": "https://localhost:8080/"
        },
        "id": "3SIPLq84Nc5s",
        "outputId": "7ac3e0dd-2c05-4b0a-828e-0ac3cc0d75d6"
      },
      "source": [
        "\n",
        "\n",
        "clf1 = LogisticRegression(C = 100,penalty=\"l2\")\n",
        "clf2 = LinearSVC(C = 10,loss=\"hinge\")\n",
        "clf3 = GaussianNB(var_smoothing = 0.0811)\n",
        "eclf = VotingClassifier(estimators=[\n",
        "                                     ('lr', clf1), ('svc', clf2), ('gnb', clf3)], voting='hard')\n",
        "eclf.fit(binary_train,balanced_labels_train)\n",
        "\n",
        "expected = test_labels\n",
        "predicted = eclf.predict(binary_test)\n",
        "print(metrics.classification_report(expected, predicted))\n",
        "print(metrics.confusion_matrix(expected, predicted))"
      ],
      "execution_count": null,
      "outputs": [
        {
          "output_type": "stream",
          "text": [
            "/usr/local/lib/python3.7/dist-packages/sklearn/linear_model/_logistic.py:940: ConvergenceWarning: lbfgs failed to converge (status=1):\n",
            "STOP: TOTAL NO. of ITERATIONS REACHED LIMIT.\n",
            "\n",
            "Increase the number of iterations (max_iter) or scale the data as shown in:\n",
            "    https://scikit-learn.org/stable/modules/preprocessing.html\n",
            "Please also refer to the documentation for alternative solver options:\n",
            "    https://scikit-learn.org/stable/modules/linear_model.html#logistic-regression\n",
            "  extra_warning_msg=_LOGISTIC_SOLVER_CONVERGENCE_MSG)\n"
          ],
          "name": "stderr"
        },
        {
          "output_type": "stream",
          "text": [
            "              precision    recall  f1-score   support\n",
            "\n",
            "                   0.78      0.60      0.68      2209\n",
            "           ,       0.21      0.30      0.25       523\n",
            "           .       0.43      0.56      0.49       868\n",
            "\n",
            "    accuracy                           0.55      3600\n",
            "   macro avg       0.47      0.49      0.47      3600\n",
            "weighted avg       0.61      0.55      0.57      3600\n",
            "\n",
            "[[1329  435  445]\n",
            " [ 153  157  213]\n",
            " [ 223  155  490]]\n"
          ],
          "name": "stdout"
        }
      ]
    },
    {
      "cell_type": "code",
      "metadata": {
        "id": "WVAJf140N9O8"
      },
      "source": [
        "def xx(labels):\n",
        "  PUNCTUATIONS = {\"\": 0, \".\": 1, \",\": 2}\n",
        "  lb = []\n",
        "  for i in labels:\n",
        "    lb.append(PUNCTUATIONS[i])\n",
        "  return lb\n",
        "test_labels = xx(test_labels)\n",
        "train_labels = xx(balanced_labels_train)"
      ],
      "execution_count": null,
      "outputs": []
    },
    {
      "cell_type": "markdown",
      "metadata": {
        "id": "x-97JianPw2Y"
      },
      "source": [
        "# Нейронные сети DNN\n",
        "В архитектуре используется:\n",
        "3 линейных слоя\n",
        "функция активации - relu\n",
        "оптимайзеры - Адам, АдамВ, Ададельта\n",
        "среди них и разных скоростей обучения лучший результат показал Адам со скоростью 0.001"
      ]
    },
    {
      "cell_type": "code",
      "metadata": {
        "id": "IitkA5NbXSJa",
        "colab": {
          "base_uri": "https://localhost:8080/",
          "height": 335
        },
        "outputId": "36a520a2-4790-4b89-a9ac-53d2f621d450"
      },
      "source": [
        "import torch.nn as nn\n",
        "import torch.nn.functional as F\n",
        "import torch.optim as optim\n",
        "import matplotlib.pyplot as plt\n",
        "\n",
        "\n",
        "\n",
        "batch_size = 128\n",
        "new_size = (12000//batch_size)*batch_size\n",
        "train_feat = torch.tensor(binary_train[:new_size],dtype = torch.float32).reshape((-1,batch_size,52))\n",
        "train_labels = torch.tensor(train_labels[:new_size],dtype=torch.float32).reshape((-1,batch_size))\n",
        "\n",
        "\n",
        "class Net(nn.Module):\n",
        "    def __init__(self):\n",
        "      super().__init__()\n",
        "      self.fc1 = nn.Linear(52, 120)\n",
        "      self.fc2 = nn.Linear(120, 84)\n",
        "      self.fc3 = nn.Linear(84, 3)\n",
        "\n",
        "    def forward(self,x):\n",
        "      x = F.relu(self.fc1(x))\n",
        "      x = F.relu(self.fc2(x))\n",
        "      x = self.fc3(x)\n",
        "      return x\n",
        "\n",
        "net1 = Net()\n",
        "\n",
        "criterion = nn.CrossEntropyLoss()\n",
        "optimizer1 = optim.Adam(net1.parameters(), lr=0.00001)\n",
        "loss_graph = []\n",
        "\n",
        "for epoch in range(1000):  # loop over the dataset multiple times\n",
        "\n",
        "    running_loss = 0.0\n",
        "    for feats, labels in zip(train_feat,train_labels):\n",
        "        # get the inputs; data is a list of [inputs, labels]\n",
        "\n",
        "        # zero the parameter gradients\n",
        "        optimizer1.zero_grad()\n",
        "\n",
        "        # forward + backward + optimize\n",
        "        outputs = net1(feats)\n",
        "        labels = labels.type(torch.LongTensor)\n",
        "\n",
        "        loss = criterion(outputs, labels)\n",
        "        loss.backward()\n",
        "        optimizer1.step()\n",
        "\n",
        "        # print statistics\n",
        "        running_loss += loss.item()\n",
        "    loss_graph.append(running_loss/len(train_feat))\n",
        "    running_loss = 0.0\n",
        "\n",
        "print('Finished Training')\n",
        "plt.plot(loss_graph)\n",
        "plt.show()"
      ],
      "execution_count": null,
      "outputs": [
        {
          "output_type": "stream",
          "text": [
            "/usr/local/lib/python3.7/dist-packages/ipykernel_launcher.py:11: UserWarning: To copy construct from a tensor, it is recommended to use sourceTensor.clone().detach() or sourceTensor.clone().detach().requires_grad_(True), rather than torch.tensor(sourceTensor).\n",
            "  # This is added back by InteractiveShellApp.init_path()\n"
          ],
          "name": "stderr"
        },
        {
          "output_type": "stream",
          "text": [
            "Finished Training\n"
          ],
          "name": "stdout"
        },
        {
          "output_type": "display_data",
          "data": {
            "image/png": "[encoded data removed]",
            "text/plain": [
              "<Figure size 432x288 with 1 Axes>"
            ]
          },
          "metadata": {
            "tags": [],
            "needs_background": "light"
          }
        }
      ]
    },
    {
      "cell_type": "code",
      "metadata": {
        "colab": {
          "base_uri": "https://localhost:8080/",
          "height": 282
        },
        "id": "H3SZwqDp2C_E",
        "outputId": "f71357c8-f737-4a1a-8985-f7a947fa0a07"
      },
      "source": [
        "net2 = Net()\n",
        "\n",
        "\n",
        "optimizer2 = optim.Adam(net2.parameters(), lr=0.0001)\n",
        "loss_graph = []\n",
        "\n",
        "for epoch in range(1000):  # loop over the dataset multiple times\n",
        "\n",
        "    running_loss = 0.0\n",
        "    for feats, labels in zip(train_feat,train_labels):\n",
        "        # get the inputs; data is a list of [inputs, labels]\n",
        "\n",
        "        # zero the parameter gradients\n",
        "        optimizer2.zero_grad()\n",
        "\n",
        "        # forward + backward + optimize\n",
        "        outputs = net2(feats)\n",
        "        labels = labels.type(torch.LongTensor)\n",
        "\n",
        "        loss = criterion(outputs, labels)\n",
        "        loss.backward()\n",
        "        optimizer2.step()\n",
        "\n",
        "        # print statistics\n",
        "        running_loss += loss.item()\n",
        "    loss_graph.append(running_loss/len(train_feat))\n",
        "    running_loss = 0.0\n",
        "\n",
        "print('Finished Training')\n",
        "plt.plot(loss_graph)\n",
        "plt.show()"
      ],
      "execution_count": null,
      "outputs": [
        {
          "output_type": "stream",
          "text": [
            "Finished Training\n"
          ],
          "name": "stdout"
        },
        {
          "output_type": "display_data",
          "data": {
            "image/png": "[encoded data removed]",
            "text/plain": [
              "<Figure size 432x288 with 1 Axes>"
            ]
          },
          "metadata": {
            "tags": [],
            "needs_background": "light"
          }
        }
      ]
    },
    {
      "cell_type": "code",
      "metadata": {
        "colab": {
          "base_uri": "https://localhost:8080/",
          "height": 284
        },
        "id": "Vh5Uc6Rx2et6",
        "outputId": "1b377ea7-70c6-4b81-bf58-31b4842f6474"
      },
      "source": [
        "net3 = Net()\n",
        "\n",
        "criterion = nn.CrossEntropyLoss()\n",
        "optimizer3 = optim.Adam(net3.parameters(), lr=0.001)\n",
        "loss_graph = []\n",
        "\n",
        "for epoch in range(1000):  # loop over the dataset multiple times\n",
        "\n",
        "    running_loss = 0.0\n",
        "    for feats, labels in zip(train_feat,train_labels):\n",
        "        # get the inputs; data is a list of [inputs, labels]\n",
        "\n",
        "        # zero the parameter gradients\n",
        "        optimizer3.zero_grad()\n",
        "\n",
        "        # forward + backward + optimize\n",
        "        outputs = net3(feats)\n",
        "        labels = labels.type(torch.LongTensor)\n",
        "\n",
        "        loss = criterion(outputs, labels)\n",
        "        loss.backward()\n",
        "        optimizer3.step()\n",
        "\n",
        "        # print statistics\n",
        "        running_loss += loss.item()\n",
        "    loss_graph.append(running_loss/len(train_feat))\n",
        "    running_loss = 0.0\n",
        "\n",
        "print('Finished Training')\n",
        "plt.plot(loss_graph)\n",
        "plt.show()"
      ],
      "execution_count": null,
      "outputs": [
        {
          "output_type": "stream",
          "text": [
            "Finished Training\n"
          ],
          "name": "stdout"
        },
        {
          "output_type": "display_data",
          "data": {
            "image/png": "[encoded data removed]",
            "text/plain": [
              "<Figure size 432x288 with 1 Axes>"
            ]
          },
          "metadata": {
            "tags": [],
            "needs_background": "light"
          }
        }
      ]
    },
    {
      "cell_type": "code",
      "metadata": {
        "colab": {
          "base_uri": "https://localhost:8080/",
          "height": 282
        },
        "id": "nZ9XUhVM3Iu7",
        "outputId": "20b5558b-d62c-4c49-f21b-2589ed769204"
      },
      "source": [
        "net4 = Net()\n",
        "\n",
        "\n",
        "optimizer4 = optim.AdamW(net4.parameters(), lr=0.0001)\n",
        "loss_graph = []\n",
        "\n",
        "for epoch in range(1000):  # loop over the dataset multiple times\n",
        "\n",
        "    running_loss = 0.0\n",
        "    for feats, labels in zip(train_feat,train_labels):\n",
        "        # get the inputs; data is a list of [inputs, labels]\n",
        "\n",
        "        # zero the parameter gradients\n",
        "        optimizer4.zero_grad()\n",
        "\n",
        "        # forward + backward + optimize\n",
        "        outputs = net4(feats)\n",
        "        labels = labels.type(torch.LongTensor)\n",
        "\n",
        "        loss = criterion(outputs, labels)\n",
        "        loss.backward()\n",
        "        optimizer4.step()\n",
        "\n",
        "        # print statistics\n",
        "        running_loss += loss.item()\n",
        "    loss_graph.append(running_loss/len(train_feat))\n",
        "    running_loss = 0.0\n",
        "\n",
        "print('Finished Training')\n",
        "plt.plot(loss_graph)\n",
        "plt.show()"
      ],
      "execution_count": null,
      "outputs": [
        {
          "output_type": "stream",
          "text": [
            "Finished Training\n"
          ],
          "name": "stdout"
        },
        {
          "output_type": "display_data",
          "data": {
            "image/png": "[encoded data removed]",
            "text/plain": [
              "<Figure size 432x288 with 1 Axes>"
            ]
          },
          "metadata": {
            "tags": [],
            "needs_background": "light"
          }
        }
      ]
    },
    {
      "cell_type": "code",
      "metadata": {
        "colab": {
          "base_uri": "https://localhost:8080/",
          "height": 282
        },
        "id": "wbzWtn8V4b-O",
        "outputId": "90ace24f-08fd-4910-b6d4-465b99f5dc3c"
      },
      "source": [
        "net5 = Net()\n",
        "\n",
        "criterion = nn.CrossEntropyLoss()\n",
        "optimizer5 = optim.Adadelta(net5.parameters(), lr=0.0001)\n",
        "loss_graph = []\n",
        "\n",
        "for epoch in range(1000):  # loop over the dataset multiple times\n",
        "\n",
        "    running_loss = 0.0\n",
        "    for feats, labels in zip(train_feat,train_labels):\n",
        "        # get the inputs; data is a list of [inputs, labels]\n",
        "\n",
        "        # zero the parameter gradients\n",
        "        optimizer5.zero_grad()\n",
        "\n",
        "        # forward + backward + optimize\n",
        "        outputs = net5(feats)\n",
        "        labels = labels.type(torch.LongTensor)\n",
        "\n",
        "        loss = criterion(outputs, labels)\n",
        "        loss.backward()\n",
        "        optimizer5.step()\n",
        "\n",
        "        # print statistics\n",
        "        running_loss += loss.item()\n",
        "    loss_graph.append(running_loss/len(train_feat))\n",
        "    running_loss = 0.0\n",
        "\n",
        "print('Finished Training')\n",
        "plt.plot(loss_graph)\n",
        "plt.show()"
      ],
      "execution_count": null,
      "outputs": [
        {
          "output_type": "stream",
          "text": [
            "Finished Training\n"
          ],
          "name": "stdout"
        },
        {
          "output_type": "display_data",
          "data": {
            "image/png": "[encoded data removed]",
            "text/plain": [
              "<Figure size 432x288 with 1 Axes>"
            ]
          },
          "metadata": {
            "tags": [],
            "needs_background": "light"
          }
        }
      ]
    },
    {
      "cell_type": "code",
      "metadata": {
        "colab": {
          "base_uri": "https://localhost:8080/"
        },
        "id": "PtfDlRQDUfKq",
        "outputId": "4f4e8c74-2321-4405-bc49-65b38dd3c31b"
      },
      "source": [
        "new_size = (3600//batch_size)*batch_size\n",
        "\n",
        "test_feat = torch.tensor(binary_test[:new_size],dtype = torch.float32).reshape((-1,batch_size,52))\n",
        "test_labels = torch.tensor(test_labels[:new_size],dtype=torch.float32).reshape((-1,batch_size))\n",
        "\n",
        "nets = [net1,net2,net3,net4,net5]\n",
        "opts = [optimizer1,optimizer2,optimizer3,optimizer4,optimizer5]\n",
        "\n",
        " # loop over the dataset multiple times\n",
        "outputs_comp = []\n",
        "running_loss = 0.0\n",
        "for i,j in zip(nets,opts):\n",
        "  outputq = []\n",
        "  for feats, labels in zip(test_feat,test_labels):\n",
        "      # get the inputs; data is a list of [inputs, labels]\n",
        "\n",
        "      # zero the parameter gradients\n",
        "      j.zero_grad()\n",
        "\n",
        "      # forward + backward + optimize\n",
        "      outputs = i(feats)\n",
        "      maxi = torch.argmax(outputs,dim = -1)\n",
        "      outputq.append(maxi.tolist())\n",
        "      labels = labels.type(torch.LongTensor)\n",
        "\n",
        "      loss = criterion(outputs, labels)\n",
        "      loss.backward()\n",
        "      j.step()\n",
        "  outputs_comp.append(outputq)\n",
        "print('Finished Training')\n",
        "expected = list(chain(*test_labels.tolist()))\n",
        "for i in outputs_comp:\n",
        "  predicted = list(chain(*i))\n",
        "  print(metrics.classification_report(expected, predicted))\n",
        "  print(metrics.confusion_matrix(expected, predicted))\n"
      ],
      "execution_count": null,
      "outputs": [
        {
          "output_type": "stream",
          "text": [
            "/usr/local/lib/python3.7/dist-packages/ipykernel_launcher.py:4: UserWarning: To copy construct from a tensor, it is recommended to use sourceTensor.clone().detach() or sourceTensor.clone().detach().requires_grad_(True), rather than torch.tensor(sourceTensor).\n",
            "  after removing the cwd from sys.path.\n"
          ],
          "name": "stderr"
        },
        {
          "output_type": "stream",
          "text": [
            "Finished Training\n",
            "              precision    recall  f1-score   support\n",
            "\n",
            "         0.0       0.79      0.58      0.67      2201\n",
            "         1.0       0.43      0.59      0.49       863\n",
            "         2.0       0.20      0.31      0.24       520\n",
            "\n",
            "    accuracy                           0.54      3584\n",
            "   macro avg       0.47      0.49      0.47      3584\n",
            "weighted avg       0.62      0.54      0.56      3584\n",
            "\n",
            "[[1272  458  471]\n",
            " [ 202  505  156]\n",
            " [ 143  218  159]]\n",
            "              precision    recall  f1-score   support\n",
            "\n",
            "         0.0       0.79      0.56      0.65      2201\n",
            "         1.0       0.43      0.61      0.51       863\n",
            "         2.0       0.21      0.32      0.25       520\n",
            "\n",
            "    accuracy                           0.54      3584\n",
            "   macro avg       0.48      0.50      0.47      3584\n",
            "weighted avg       0.62      0.54      0.56      3584\n",
            "\n",
            "[[1227  481  493]\n",
            " [ 191  526  146]\n",
            " [ 141  212  167]]\n",
            "              precision    recall  f1-score   support\n",
            "\n",
            "         0.0       0.79      0.58      0.67      2201\n",
            "         1.0       0.43      0.61      0.51       863\n",
            "         2.0       0.22      0.32      0.26       520\n",
            "\n",
            "    accuracy                           0.55      3584\n",
            "   macro avg       0.48      0.50      0.48      3584\n",
            "weighted avg       0.62      0.55      0.57      3584\n",
            "\n",
            "[[1273  476  452]\n",
            " [ 193  529  141]\n",
            " [ 143  212  165]]\n",
            "              precision    recall  f1-score   support\n",
            "\n",
            "         0.0       0.79      0.56      0.65      2201\n",
            "         1.0       0.43      0.61      0.51       863\n",
            "         2.0       0.21      0.32      0.25       520\n",
            "\n",
            "    accuracy                           0.54      3584\n",
            "   macro avg       0.48      0.50      0.47      3584\n",
            "weighted avg       0.62      0.54      0.56      3584\n",
            "\n",
            "[[1228  483  490]\n",
            " [ 191  528  144]\n",
            " [ 140  213  167]]\n",
            "              precision    recall  f1-score   support\n",
            "\n",
            "         0.0       0.85      0.40      0.54      2201\n",
            "         1.0       0.31      0.91      0.46       863\n",
            "         2.0       0.27      0.01      0.03       520\n",
            "\n",
            "    accuracy                           0.46      3584\n",
            "   macro avg       0.48      0.44      0.34      3584\n",
            "weighted avg       0.63      0.46      0.45      3584\n",
            "\n",
            "[[ 873 1316   12]\n",
            " [  70  786    7]\n",
            " [  89  424    7]]\n"
          ],
          "name": "stdout"
        }
      ]
    },
    {
      "cell_type": "code",
      "metadata": {
        "colab": {
          "base_uri": "https://localhost:8080/"
        },
        "id": "RVp2S5m2-Fhn",
        "outputId": "5b29465f-68aa-47b6-c00e-dfa07dd0f40b"
      },
      "source": [
        "import numpy as np\n",
        "from sklearn.pipeline import make_pipeline\n",
        "from sklearn.preprocessing import StandardScaler\n",
        "X = np.array([[-1, -1], [-2, -1], [1, 1], [2, 1]])\n",
        "y = np.array([1, 1, 2, 2])\n",
        "from sklearn.svm import SVC\n",
        "clf = make_pipeline(StandardScaler(), SVC(gamma='auto'))\n",
        "clf.fit(X, y)"
      ],
      "execution_count": null,
      "outputs": [
        {
          "output_type": "execute_result",
          "data": {
            "text/plain": [
              "Pipeline(memory=None,\n",
              "         steps=[('standardscaler',\n",
              "                 StandardScaler(copy=True, with_mean=True, with_std=True)),\n",
              "                ('svc',\n",
              "                 SVC(C=1.0, break_ties=False, cache_size=200, class_weight=None,\n",
              "                     coef0=0.0, decision_function_shape='ovr', degree=3,\n",
              "                     gamma='auto', kernel='rbf', max_iter=-1, probability=False,\n",
              "                     random_state=None, shrinking=True, tol=0.001,\n",
              "                     verbose=False))],\n",
              "         verbose=False)"
            ]
          },
          "metadata": {
            "tags": []
          },
          "execution_count": 1
        }
      ]
    },
    {
      "cell_type": "code",
      "metadata": {
        "id": "cwlqLjML-Lds"
      },
      "source": [
        ""
      ],
      "execution_count": null,
      "outputs": []
    }
  ]
}